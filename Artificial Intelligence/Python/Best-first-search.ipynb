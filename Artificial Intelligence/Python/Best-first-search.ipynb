{
 "cells": [
  {
   "cell_type": "code",
   "execution_count": 2,
   "id": "4923bf9c-6907-44bb-b985-ad6146138986",
   "metadata": {},
   "outputs": [
    {
     "name": "stdout",
     "output_type": "stream",
     "text": [
      "0 1 3 2 8 9 \n"
     ]
    }
   ],
   "source": [
    "from queue import PriorityQueue\n",
    "v = 14\n",
    "graph = [[] for i in range(v)]\n",
    "\n",
    "# Function For Implementing Best First Search\n",
    "# Gives output path having lowest cost\n",
    "\n",
    "\n",
    "def best_first_search(actual_Src, target, n):\n",
    "\tvisited = [False] * n\n",
    "\tpq = PriorityQueue()\n",
    "\tpq.put((0, actual_Src))\n",
    "\tvisited[actual_Src] = True\n",
    "\t\n",
    "\twhile pq.empty() == False:\n",
    "\t\tu = pq.get()[1]\n",
    "\t\t# Displaying the path having lowest cost\n",
    "\t\tprint(u, end=\" \")\n",
    "\t\tif u == target:\n",
    "\t\t\tbreak\n",
    "\n",
    "\t\tfor v, c in graph[u]:\n",
    "\t\t\tif visited[v] == False:\n",
    "\t\t\t\tvisited[v] = True\n",
    "\t\t\t\tpq.put((c, v))\n",
    "\tprint()\n",
    "\n",
    "# Function for adding edges to graph\n",
    "\n",
    "\n",
    "def addedge(x, y, cost):\n",
    "\tgraph[x].append((y, cost))\n",
    "\tgraph[y].append((x, cost))\n",
    "\n",
    "\n",
    "# The nodes shown in above example(by alphabets) are\n",
    "# implemented using integers addedge(x,y,cost);\n",
    "addedge(0, 1, 3)\n",
    "addedge(0, 2, 6)\n",
    "addedge(0, 3, 5)\n",
    "addedge(1, 4, 9)\n",
    "addedge(1, 5, 8)\n",
    "addedge(2, 6, 12)\n",
    "addedge(2, 7, 14)\n",
    "addedge(3, 8, 7)\n",
    "addedge(8, 9, 5)\n",
    "addedge(8, 10, 6)\n",
    "addedge(9, 11, 1)\n",
    "addedge(9, 12, 10)\n",
    "addedge(9, 13, 2)\n",
    "\n",
    "source = 0\n",
    "target = 9\n",
    "best_first_search(source, target, v)"
   ]
  },
  {
   "cell_type": "code",
   "execution_count": null,
   "id": "b59af4ec-0087-462d-9f6f-4e8e7ed62606",
   "metadata": {},
   "outputs": [],
   "source": []
  }
 ],
 "metadata": {
  "kernelspec": {
   "display_name": "Python 3 (ipykernel)",
   "language": "python",
   "name": "python3"
  },
  "language_info": {
   "codemirror_mode": {
    "name": "ipython",
    "version": 3
   },
   "file_extension": ".py",
   "mimetype": "text/x-python",
   "name": "python",
   "nbconvert_exporter": "python",
   "pygments_lexer": "ipython3",
   "version": "3.9.13"
  }
 },
 "nbformat": 4,
 "nbformat_minor": 5
}
