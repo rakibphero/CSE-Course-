{
 "cells": [
  {
   "cell_type": "code",
   "execution_count": 3,
   "id": "97e581bb",
   "metadata": {},
   "outputs": [
    {
     "name": "stdout",
     "output_type": "stream",
     "text": [
      "File 'rle_input_text.txt' compressed to 'rle_encoded_text.txt'.\n",
      "\n",
      "File - rle_input_text.txt size: 11 bytes\n",
      "File - rle_encoded_text.txt size: 10 bytes\n"
     ]
    }
   ],
   "source": [
    "import os\n",
    "\n",
    "\n",
    "def run_length_encode_text(input_file, output_file):\n",
    "    try:\n",
    "        with open(input_file, 'r') as infile, open(output_file, 'w') as outfile:\n",
    "            current_char = infile.read(1)\n",
    "            count = 1\n",
    "\n",
    "            while True:\n",
    "                next_char = infile.read(1)\n",
    "                if current_char == ' ' or current_char == '\\n':\n",
    "                    outfile.write(str(current_char))\n",
    "                    current_char = next_char\n",
    "                    count = 1\n",
    "                elif next_char == current_char:\n",
    "                    count += 1\n",
    "                else:\n",
    "                    outfile.write(str(count))\n",
    "                    outfile.write(str(current_char))\n",
    "                    current_char = next_char\n",
    "                    count = 1\n",
    "\n",
    "                if not next_char:\n",
    "                    break\n",
    "\n",
    "    except FileNotFoundError:\n",
    "        print(\"Input file not found.\")\n",
    "    except Exception as e:\n",
    "        print(\"An error occurred:\", str(e))\n",
    "\n",
    "\n",
    "input_filename = \"rle_input_text.txt\"\n",
    "output_filename = \"rle_encoded_text.txt\"\n",
    "run_length_encode_text(input_filename, output_filename)\n",
    "print(f\"File '{input_filename}' compressed to '{output_filename}'.\\n\")\n",
    "\n",
    "\n",
    "def display_file_size(file_path):\n",
    "    try:\n",
    "        file_size = os.path.getsize(file_path)\n",
    "        print(f\"File - {file_path} size: {file_size} bytes\")\n",
    "\n",
    "    except FileNotFoundError:\n",
    "        print(\"File not found\")\n",
    "\n",
    "\n",
    "display_file_size(\"rle_input_text.txt\")\n",
    "display_file_size(\"rle_encoded_text.txt\")"
   ]
  }
 ],
 "metadata": {
  "kernelspec": {
   "display_name": "Python 3 (ipykernel)",
   "language": "python",
   "name": "python3"
  },
  "language_info": {
   "codemirror_mode": {
    "name": "ipython",
    "version": 3
   },
   "file_extension": ".py",
   "mimetype": "text/x-python",
   "name": "python",
   "nbconvert_exporter": "python",
   "pygments_lexer": "ipython3",
   "version": "3.9.13"
  }
 },
 "nbformat": 4,
 "nbformat_minor": 5
}
