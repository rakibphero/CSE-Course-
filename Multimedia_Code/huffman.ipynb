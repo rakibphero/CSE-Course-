{
 "cells": [
  {
   "cell_type": "markdown",
   "id": "a0d42c26",
   "metadata": {},
   "source": [
    "# Huffman Coding"
   ]
  },
  {
   "cell_type": "code",
   "execution_count": 1,
   "id": "725f079a",
   "metadata": {},
   "outputs": [
    {
     "name": "stdout",
     "output_type": "stream",
     "text": [
      "File 'huffman_input.txt' compressed to 'huffman_encoded.txt'.\n",
      "Character - Huffman Code:\n",
      "'A' - 11\n",
      "'B' - 10\n",
      "'C' - 011\n",
      "'F' - 010\n",
      "'E' - 00\n"
     ]
    }
   ],
   "source": [
    "import heapq\n",
    "from collections import Counter\n",
    "\n",
    "\n",
    "class HuffmanNode:\n",
    "    def __init__(self, char, freq):\n",
    "        self.char = char\n",
    "        self.freq = freq\n",
    "        self.left = None\n",
    "        self.right = None\n",
    "\n",
    "    def __lt__(self, other):\n",
    "        return self.freq < other.freq\n",
    "\n",
    "\n",
    "def build_huffman_tree(freq_dict):\n",
    "    priority_queue = [HuffmanNode(char, freq) for char, freq in freq_dict.items()]\n",
    "    heapq.heapify(priority_queue)\n",
    "\n",
    "    while len(priority_queue) > 1:\n",
    "        left = heapq.heappop(priority_queue)\n",
    "        right = heapq.heappop(priority_queue)\n",
    "\n",
    "        merged_node = HuffmanNode(None, left.freq + right.freq)\n",
    "        merged_node.left = left\n",
    "        merged_node.right = right\n",
    "\n",
    "        heapq.heappush(priority_queue, merged_node)\n",
    "\n",
    "    return priority_queue[0]\n",
    "\n",
    "\n",
    "def build_huffman_codes(node, current_code, huffman_codes):\n",
    "    if node is None:\n",
    "        return\n",
    "\n",
    "    if node.char is not None:\n",
    "        huffman_codes[node.char] = current_code\n",
    "        return\n",
    "\n",
    "    build_huffman_codes(node.left, current_code + '1', huffman_codes)\n",
    "    build_huffman_codes(node.right, current_code + '0', huffman_codes)\n",
    "\n",
    "\n",
    "def huffman_compress(input_file, output_file):\n",
    "    try:\n",
    "        with open(input_file, 'r', encoding='utf-8') as infile:\n",
    "            data = infile.read()\n",
    "\n",
    "        freq_dict = dict(Counter(data))\n",
    "        huffman_tree = build_huffman_tree(freq_dict)\n",
    "        huffman_codes = {}\n",
    "        build_huffman_codes(huffman_tree, '', huffman_codes)\n",
    "\n",
    "        compressed_data = ''.join(huffman_codes[char] for char in data)\n",
    "\n",
    "        with open(output_file, 'w', encoding='utf-8') as outfile:\n",
    "            outfile.write(compressed_data)\n",
    "\n",
    "        print(f\"File '{input_file}' compressed to '{output_file}'.\")\n",
    "\n",
    "    except FileNotFoundError:\n",
    "        print(\"Input file not found.\")\n",
    "    except Exception as e:\n",
    "        print(\"An error occurred:\", str(e))\n",
    "\n",
    "\n",
    "input_filename = \"huffman_input.txt\"\n",
    "compressed_filename = \"huffman_encoded.txt\"\n",
    "huffman_compress(input_filename, compressed_filename)\n",
    "\n",
    "\n",
    "def get_huffman_codes(input_file):\n",
    "    try:\n",
    "        with open(input_file, 'r', encoding='utf-8') as infile:\n",
    "            data = infile.read()\n",
    "\n",
    "        freq_dict = dict(Counter(data))\n",
    "        huffman_tree = build_huffman_tree(freq_dict)\n",
    "        huffman_codes = {}\n",
    "        build_huffman_codes(huffman_tree, '', huffman_codes)\n",
    "\n",
    "        return huffman_codes\n",
    "\n",
    "    except FileNotFoundError:\n",
    "        print(\"Input file not found.\")\n",
    "        return None\n",
    "    except Exception as e:\n",
    "        print(\"An error occurred:\", str(e))\n",
    "        return None\n",
    "\n",
    "# Example usage:\n",
    "input_filename = \"huffman_input.txt\"  # Replace with your input file name\n",
    "\n",
    "huffman_codes = get_huffman_codes(input_filename)\n",
    "if huffman_codes:\n",
    "    print(\"Character - Huffman Code:\")\n",
    "    for char, code in huffman_codes.items():\n",
    "        print(f\"'{char}' - {code}\")"
   ]
  },
  {
   "cell_type": "markdown",
   "id": "f4290aa6",
   "metadata": {},
   "source": [
    "# huffman_input.txt: AABABBEEEEFEFC"
   ]
  },
  {
   "cell_type": "markdown",
   "id": "76db0bf9",
   "metadata": {},
   "source": [
    "# huffman_encoded.txt: 11!11!10!11!10!10!00!00!00!00!010!00!010!011!"
   ]
  }
 ],
 "metadata": {
  "kernelspec": {
   "display_name": "Python 3 (ipykernel)",
   "language": "python",
   "name": "python3"
  },
  "language_info": {
   "codemirror_mode": {
    "name": "ipython",
    "version": 3
   },
   "file_extension": ".py",
   "mimetype": "text/x-python",
   "name": "python",
   "nbconvert_exporter": "python",
   "pygments_lexer": "ipython3",
   "version": "3.9.13"
  }
 },
 "nbformat": 4,
 "nbformat_minor": 5
}
