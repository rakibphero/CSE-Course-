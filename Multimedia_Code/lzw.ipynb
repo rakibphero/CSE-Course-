{
 "cells": [
  {
   "cell_type": "code",
   "execution_count": 5,
   "id": "f39941d7",
   "metadata": {},
   "outputs": [],
   "source": [
    "def lzw_encode_file(input_file, output_file):\n",
    "    with open(input_file, 'r') as f:\n",
    "        text = f.read()\n",
    "    \n",
    "    dictionary = {chr(i): i for i in range(256)}\n",
    "    result = []\n",
    "    current = \"\"\n",
    "    \n",
    "    for char in text:\n",
    "        current += char\n",
    "        if current not in dictionary:\n",
    "            dictionary[current] = len(dictionary)\n",
    "            result.append(dictionary[current[:-1]])\n",
    "            current = char\n",
    "    result.append(dictionary[current])\n",
    "    \n",
    "    with open(output_file, 'w') as f:\n",
    "        f.write(' '.join(map(str, result)))\n",
    "\n",
    "# Usage\n",
    "input_file = 'lzw_input.txt'\n",
    "output_file = 'lzw_encoded.txt'\n",
    "lzw_encode_file(input_file, output_file)"
   ]
  }
 ],
 "metadata": {
  "kernelspec": {
   "display_name": "Python 3 (ipykernel)",
   "language": "python",
   "name": "python3"
  },
  "language_info": {
   "codemirror_mode": {
    "name": "ipython",
    "version": 3
   },
   "file_extension": ".py",
   "mimetype": "text/x-python",
   "name": "python",
   "nbconvert_exporter": "python",
   "pygments_lexer": "ipython3",
   "version": "3.9.13"
  }
 },
 "nbformat": 4,
 "nbformat_minor": 5
}
