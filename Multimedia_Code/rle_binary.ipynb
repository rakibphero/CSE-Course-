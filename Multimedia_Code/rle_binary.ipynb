{
 "cells": [
  {
   "cell_type": "code",
   "execution_count": 7,
   "id": "312be212",
   "metadata": {},
   "outputs": [
    {
     "name": "stdout",
     "output_type": "stream",
     "text": [
      "Binary file 'rle_input_binary.txt' compressed to 'rle_encoded_binary.txt'.\n"
     ]
    }
   ],
   "source": [
    "def run_length_encode_binary(input_file, output_file):\n",
    "    number = []\n",
    "    frequency = []\n",
    "    try:\n",
    "        with open(input_file, 'r') as infile:\n",
    "            current_bit = infile.read(1)\n",
    "            count = 1\n",
    "\n",
    "            while True:\n",
    "                next_bit = infile.read(1)\n",
    "\n",
    "                if next_bit == current_bit:\n",
    "                    count += 1\n",
    "                else:\n",
    "                    number.append(current_bit)\n",
    "                    frequency.append(count)\n",
    "                    current_bit = next_bit\n",
    "                    count = 1\n",
    "\n",
    "                if not next_bit:\n",
    "                    encoder(number, frequency, output_file)\n",
    "                    break\n",
    "\n",
    "    except FileNotFoundError:\n",
    "        print(\"Input file not found.\")\n",
    "    except Exception as e:\n",
    "        print(\"An error occurred:\", str(e))\n",
    "\n",
    "\n",
    "def encoder(num, freq, output_file):\n",
    "    min_digit = int(max(freq)).bit_length()\n",
    "    with open(output_file, 'w') as outfile:\n",
    "        try:\n",
    "            for i in range(len(num)):\n",
    "                binary_num = str(bin(freq[i])[2:]).zfill(min_digit)\n",
    "                outfile.write(num[i])\n",
    "                outfile.write(binary_num)\n",
    "\n",
    "        except FileNotFoundError:\n",
    "            print(\"Input file not found.\")\n",
    "        except Exception as e:\n",
    "            print(\"An error occurred:\", str(e))\n",
    "\n",
    "\n",
    "input_filename = \"rle_input_binary.txt\"\n",
    "output_filename = \"rle_encoded_binary.txt\"\n",
    "\n",
    "# Compress the binary file\n",
    "run_length_encode_binary(input_filename, output_filename)\n",
    "print(f\"Binary file '{input_filename}' compressed to '{output_filename}'.\")\n"
   ]
  }
 ],
 "metadata": {
  "kernelspec": {
   "display_name": "Python 3 (ipykernel)",
   "language": "python",
   "name": "python3"
  },
  "language_info": {
   "codemirror_mode": {
    "name": "ipython",
    "version": 3
   },
   "file_extension": ".py",
   "mimetype": "text/x-python",
   "name": "python",
   "nbconvert_exporter": "python",
   "pygments_lexer": "ipython3",
   "version": "3.9.13"
  }
 },
 "nbformat": 4,
 "nbformat_minor": 5
}
