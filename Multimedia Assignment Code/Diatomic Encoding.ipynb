{
 "cells": [
  {
   "cell_type": "code",
   "execution_count": 6,
   "id": "70cea2e7",
   "metadata": {},
   "outputs": [
    {
     "name": "stdout",
     "output_type": "stream",
     "text": [
      "Encoded data written to encoded_output.txt\n"
     ]
    }
   ],
   "source": [
    "import base64\n",
    "\n",
    "# Function to encode data using base64\n",
    "def base64_encode(data):\n",
    "    encoded_bytes = base64.b64encode(data.encode())\n",
    "    encoded_data = encoded_bytes.decode()\n",
    "    return encoded_data\n",
    "\n",
    "# Function to decode data using base64\n",
    "def base64_decode(encoded_data):\n",
    "    decoded_bytes = base64.b64decode(encoded_data)\n",
    "    decoded_data = decoded_bytes.decode()\n",
    "    return decoded_data\n",
    "\n",
    "# Reading input from input.txt\n",
    "try:\n",
    "    with open(\"input.txt\", \"r\") as file:\n",
    "        data = file.read()\n",
    "except FileNotFoundError:\n",
    "    print(\"input.txt not found. Please create the file and place your input data in it.\")\n",
    "    exit(1)\n",
    "\n",
    "# Encoding and writing to encoded_output.txt\n",
    "encoded = base64_encode(data)\n",
    "with open(\"diatomic_encoded_output.txt\", \"w\") as encoded_file:\n",
    "    encoded_file.write(encoded)\n",
    "print(\"Encoded data written to encoded_output.txt\")"
   ]
  }
 ],
 "metadata": {
  "kernelspec": {
   "display_name": "Python 3 (ipykernel)",
   "language": "python",
   "name": "python3"
  },
  "language_info": {
   "codemirror_mode": {
    "name": "ipython",
    "version": 3
   },
   "file_extension": ".py",
   "mimetype": "text/x-python",
   "name": "python",
   "nbconvert_exporter": "python",
   "pygments_lexer": "ipython3",
   "version": "3.9.13"
  }
 },
 "nbformat": 4,
 "nbformat_minor": 5
}
