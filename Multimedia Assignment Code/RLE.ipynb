{
 "cells": [
  {
   "cell_type": "code",
   "execution_count": 7,
   "id": "ad5c9e57",
   "metadata": {},
   "outputs": [],
   "source": [
    "def run_length_encode_file(input_file, output_file):\n",
    "    with open(input_file, 'r') as f:\n",
    "        text = f.read()\n",
    "    \n",
    "    encoded_text = \"\"\n",
    "    count = 1\n",
    "    for i in range(1, len(text)):\n",
    "        if text[i] == text[i - 1]:\n",
    "            count += 1\n",
    "        else:\n",
    "            encoded_text += str(count) + text[i - 1]\n",
    "            count = 1\n",
    "    encoded_text += str(count) + text[-1]\n",
    "    \n",
    "    with open(output_file, 'w') as f:\n",
    "        f.write(encoded_text)\n",
    "\n",
    "# Usage\n",
    "input_file = 'input.txt'\n",
    "output_file = 'rle_encoded.txt'\n",
    "run_length_encode_file(input_file, output_file)"
   ]
  },
  {
   "cell_type": "code",
   "execution_count": null,
   "id": "224969fa",
   "metadata": {},
   "outputs": [],
   "source": []
  }
 ],
 "metadata": {
  "kernelspec": {
   "display_name": "Python 3 (ipykernel)",
   "language": "python",
   "name": "python3"
  },
  "language_info": {
   "codemirror_mode": {
    "name": "ipython",
    "version": 3
   },
   "file_extension": ".py",
   "mimetype": "text/x-python",
   "name": "python",
   "nbconvert_exporter": "python",
   "pygments_lexer": "ipython3",
   "version": "3.9.13"
  }
 },
 "nbformat": 4,
 "nbformat_minor": 5
}
