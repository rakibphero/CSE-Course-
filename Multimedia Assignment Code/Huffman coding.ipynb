{
 "cells": [
  {
   "cell_type": "code",
   "execution_count": 3,
   "id": "af23b78a",
   "metadata": {},
   "outputs": [],
   "source": [
    "import heapq\n",
    "from collections import defaultdict\n",
    "\n",
    "def huffman_encode_file(input_file, output_file):\n",
    "    with open(input_file, 'r') as f:\n",
    "        text = f.read()\n",
    "    \n",
    "    def build_huffman_tree(frequencies):\n",
    "        heap = [[weight, [char, \"\"]] for char, weight in frequencies.items()]\n",
    "        heapq.heapify(heap)\n",
    "        while len(heap) > 1:\n",
    "            lo = heapq.heappop(heap)\n",
    "            hi = heapq.heappop(heap)\n",
    "            for pair in lo[1:]:\n",
    "                pair[1] = '0' + pair[1]\n",
    "            for pair in hi[1:]:\n",
    "                pair[1] = '1' + pair[1]\n",
    "            heapq.heappush(heap, [lo[0] + hi[0]] + lo[1:] + hi[1:])\n",
    "        return sorted(heapq.heappop(heap)[1:], key=lambda p: (len(p[-1]), p))\n",
    "\n",
    "    frequencies = defaultdict(int)\n",
    "    for char in text:\n",
    "        frequencies[char] += 1\n",
    "\n",
    "    huffman_tree = build_huffman_tree(frequencies)\n",
    "    huffman_dict = {char: code for char, code in huffman_tree}\n",
    "    \n",
    "    encoded_text = \"\".join(huffman_dict[char] for char in text)\n",
    "    \n",
    "    with open(output_file, 'w') as f:\n",
    "        f.write(encoded_text)\n",
    "\n",
    "# Usage\n",
    "input_file = 'input.txt'\n",
    "output_file = 'huffman_encoded.txt'\n",
    "huffman_encode_file(input_file, output_file)"
   ]
  },
  {
   "cell_type": "code",
   "execution_count": null,
   "id": "ca5033fc",
   "metadata": {},
   "outputs": [],
   "source": []
  }
 ],
 "metadata": {
  "kernelspec": {
   "display_name": "Python 3 (ipykernel)",
   "language": "python",
   "name": "python3"
  },
  "language_info": {
   "codemirror_mode": {
    "name": "ipython",
    "version": 3
   },
   "file_extension": ".py",
   "mimetype": "text/x-python",
   "name": "python",
   "nbconvert_exporter": "python",
   "pygments_lexer": "ipython3",
   "version": "3.9.13"
  }
 },
 "nbformat": 4,
 "nbformat_minor": 5
}
