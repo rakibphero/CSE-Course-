{
 "cells": [
  {
   "cell_type": "code",
   "execution_count": 13,
   "id": "0d329d9a",
   "metadata": {},
   "outputs": [
    {
     "name": "stdout",
     "output_type": "stream",
     "text": [
      "input:  aabbbbccddddddeeeeeeeeeeeeeefffg\n",
      "input:  111100001111111111000\n"
     ]
    },
    {
     "ename": "TypeError",
     "evalue": "write() argument must be str, not list",
     "output_type": "error",
     "traceback": [
      "\u001b[1;31m---------------------------------------------------------------------------\u001b[0m",
      "\u001b[1;31mTypeError\u001b[0m                                 Traceback (most recent call last)",
      "\u001b[1;32m~\\AppData\\Local\\Temp\\ipykernel_4692\\1060537274.py\u001b[0m in \u001b[0;36m<module>\u001b[1;34m\u001b[0m\n\u001b[0;32m     48\u001b[0m \u001b[1;33m\u001b[0m\u001b[0m\n\u001b[0;32m     49\u001b[0m \u001b[1;32mwith\u001b[0m \u001b[0mopen\u001b[0m\u001b[1;33m(\u001b[0m\u001b[1;34m\"binary_encoded.txt\"\u001b[0m\u001b[1;33m,\u001b[0m \u001b[1;34m\"w\"\u001b[0m\u001b[1;33m)\u001b[0m \u001b[1;32mas\u001b[0m \u001b[0mtext_encode\u001b[0m\u001b[1;33m:\u001b[0m\u001b[1;33m\u001b[0m\u001b[1;33m\u001b[0m\u001b[0m\n\u001b[1;32m---> 50\u001b[1;33m     \u001b[0mtext_encode\u001b[0m\u001b[1;33m.\u001b[0m\u001b[0mwrite\u001b[0m\u001b[1;33m(\u001b[0m\u001b[0mencoded_binary\u001b[0m\u001b[1;33m)\u001b[0m\u001b[1;33m\u001b[0m\u001b[1;33m\u001b[0m\u001b[0m\n\u001b[0m\u001b[0;32m     51\u001b[0m \u001b[1;33m\u001b[0m\u001b[0m\n\u001b[0;32m     52\u001b[0m \u001b[0mprint\u001b[0m\u001b[1;33m(\u001b[0m\u001b[1;34m\"Encoded Text:\"\u001b[0m\u001b[1;33m,\u001b[0m \u001b[0mencoded_text\u001b[0m\u001b[1;33m)\u001b[0m\u001b[1;33m\u001b[0m\u001b[1;33m\u001b[0m\u001b[0m\n",
      "\u001b[1;31mTypeError\u001b[0m: write() argument must be str, not list"
     ]
    }
   ],
   "source": [
    "def run_length_encode(input_data):\n",
    "    encoded_data = []\n",
    "    count = 1\n",
    "\n",
    "    for i in range(1, len(input_data)):\n",
    "        if input_data[i] == input_data[i-1]:\n",
    "            count += 1\n",
    "        else:\n",
    "            if count >= 4:\n",
    "                encoded_data.append((input_data[i-1], count))\n",
    "            else:\n",
    "                encoded_data.extend([input_data[i-1]] * count)\n",
    "            count = 1\n",
    "\n",
    "    if count >= 4:\n",
    "        encoded_data.append((input_data[-1], count))\n",
    "    else:\n",
    "        encoded_data.extend([input_data[-1]] * count)\n",
    "\n",
    "    return encoded_data\n",
    "\n",
    "def encode_text(text):\n",
    "    return run_length_encode(text)\n",
    "\n",
    "def encode_binary(binary_data):\n",
    "    return run_length_encode(binary_data)\n",
    "\n",
    "# Example Usage\n",
    "text_data = \"input_text.txt\"\n",
    "binary_data = \"input_binary.txt\"\n",
    "with open (text_data,\"r\") as input_data:\n",
    "    data = input_data.read()\n",
    "    \n",
    "with open(binary_data, \"r\") as bin_data:\n",
    "    binary_data = bin_data.read()\n",
    "    \n",
    "    \n",
    "print(\"input: \", data)\n",
    "print(\"input: \", binary_data)\n",
    "\n",
    "\n",
    "encoded_text = encode_text(data)\n",
    "encoded_binary = encode_binary(binary_data)\n",
    "\n",
    "with open(\"text_encoded.txt\", \"w\") as text_encode:\n",
    "    text_encode.write(str(encoded_text))\n",
    "\n",
    "    \n",
    "with open(\"binary_encoded.txt\", \"w\") as text_encode:\n",
    "    text_encode.write(str(encoded_binary))\n",
    "    \n",
    "print(\"Encoded Text:\", encoded_text)\n",
    "print(\"Encoded Binary:\", encoded_binary)"
   ]
  },
  {
   "cell_type": "code",
   "execution_count": null,
   "id": "9efa425f",
   "metadata": {},
   "outputs": [],
   "source": []
  }
 ],
 "metadata": {
  "kernelspec": {
   "display_name": "Python 3 (ipykernel)",
   "language": "python",
   "name": "python3"
  },
  "language_info": {
   "codemirror_mode": {
    "name": "ipython",
    "version": 3
   },
   "file_extension": ".py",
   "mimetype": "text/x-python",
   "name": "python",
   "nbconvert_exporter": "python",
   "pygments_lexer": "ipython3",
   "version": "3.9.13"
  }
 },
 "nbformat": 4,
 "nbformat_minor": 5
}
